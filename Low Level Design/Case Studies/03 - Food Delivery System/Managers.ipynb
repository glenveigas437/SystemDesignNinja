{
 "cells": [
  {
   "cell_type": "code",
   "execution_count": 4,
   "id": "697fe4e6",
   "metadata": {},
   "outputs": [],
   "source": [
    "import DataAccessor"
   ]
  },
  {
   "cell_type": "code",
   "execution_count": 5,
   "id": "5f4737a4",
   "metadata": {},
   "outputs": [],
   "source": [
    "import import_ipynb"
   ]
  },
  {
   "cell_type": "code",
   "execution_count": 8,
   "id": "4014a6a1",
   "metadata": {},
   "outputs": [],
   "source": [
    "from abc import ABC"
   ]
  },
  {
   "cell_type": "code",
   "execution_count": 6,
   "id": "844ba97d",
   "metadata": {},
   "outputs": [],
   "source": [
    "class CartManager:\n",
    "    def getUserCart(self, user):\n",
    "        return DataAccessor().getUserCart(user)\n",
    "    \n",
    "    def addItemsToCart(self, user, foodItem):\n",
    "        permission = PermissionFactory().getAddToCartPermission(user, foodItem)\n",
    "        if not permission.isPermitted():\n",
    "            raise Exception(\"Permission Denied!\")\n",
    "        if not self.isFoodFromSameRestaurant(user, foodItem):\n",
    "            raise Exception(\"Food Item is not from Same Restaurant\")\n",
    "        DataAccesor().addItemsToCart(user, foodItem)\n",
    "        \n",
    "    def deleteItemFromCart(self, user, foodItem):\n",
    "        permission = PermissionFactory().getDelteFromCartPermission(user, foodItem)\n",
    "        if not permission:\n",
    "            raise Exception(\"Permission Denied!\")\n",
    "        if not self.isFoodItemPresentInCart(user, foodItem):\n",
    "            raise Exception(\"Permission Denied!\")\n",
    "        DataAccessor().deleteItemsFromCart(user, foodItem)\n",
    "        \n",
    "    def checkOutUserCart(self, user):\n",
    "        permission = PermissionFactoty().getCheckOutUserCarrt(user)\n",
    "        if not permission:\n",
    "            raise Exception(\"Permission Denied!\")\n",
    "        if self.isUserCartEmpty(user):\n",
    "            raise Exception(\"Permission Denied!\")\n",
    "        DataAccessor().checkoutUserCart(user)\n",
    "    \n",
    "    def isFoodFromSameRestaurant(self, user, foodItem):\n",
    "        userCart = self.getUserCart(user)\n",
    "        if not userCart:\n",
    "            return True\n",
    "        for item in userCart:\n",
    "            if item.getFoodItem().restaurantId != foodItem.restaurantId:\n",
    "                return False\n",
    "        return True\n",
    "    \n",
    "    def isFoodItemPresentInCart(self, user, foodItem):\n",
    "        userCart = self.getUserCart(user)\n",
    "        if not userCart:\n",
    "            return True\n",
    "        for item in userCart:\n",
    "            if item.getFoodItem().id == foodItem.id:\n",
    "                return True\n",
    "        return False\n",
    "    \n",
    "    def isUserCartEmpty(self, user):\n",
    "        userCart = self.getUserCart(user)\n",
    "        if not userCart:\n",
    "            return True"
   ]
  },
  {
   "cell_type": "code",
   "execution_count": 9,
   "id": "da09df48",
   "metadata": {},
   "outputs": [],
   "source": [
    "class PaymentManager(ABC):\n",
    "    def executePayment(self):\n",
    "        pass"
   ]
  },
  {
   "cell_type": "code",
   "execution_count": 10,
   "id": "a7eca2b0",
   "metadata": {},
   "outputs": [],
   "source": [
    "class NetBankingPaymentManager(PaymentManager):\n",
    "    def __init__(self, bankName, userName, password, pin, amount):\n",
    "        self.bankName = bankName\n",
    "        self.userName = username\n",
    "        self.password = password\n",
    "        self.pin = pin\n",
    "        self.amount = amount\n",
    "    \n",
    "    def executePayment(self):\n",
    "        pass"
   ]
  },
  {
   "cell_type": "code",
   "execution_count": 11,
   "id": "4aa41f1f",
   "metadata": {},
   "outputs": [],
   "source": [
    "class CardBasedPaymentManager(PaymentManager):\n",
    "    def __init__(self, bankName, cardNumber, pin, amount):\n",
    "        self.bankName = bankName\n",
    "        self.cardNumber = cardNumber\n",
    "        self.pin = pin\n",
    "        self.amount = amount\n",
    "    \n",
    "    def executePayment(self):\n",
    "        pass"
   ]
  },
  {
   "cell_type": "code",
   "execution_count": 12,
   "id": "db6df9f9",
   "metadata": {},
   "outputs": [],
   "source": [
    "class UPIPaymentManager(PaymentManager):\n",
    "    def __init__(self, upiID, upiPin, amount):\n",
    "        self.upiID = upiID\n",
    "        self.upiPin = upiPin\n",
    "        self.amount = amount\n",
    "    \n",
    "    def executePayment(self):\n",
    "        pass"
   ]
  },
  {
   "cell_type": "code",
   "execution_count": 13,
   "id": "0c38a698",
   "metadata": {},
   "outputs": [],
   "source": [
    "class CashOnDeliveryPaymentManager(PaymentManager):\n",
    "    def __init__(self, amount):\n",
    "        self.amount = amount\n",
    "    \n",
    "    def executePayment(self):\n",
    "        pass"
   ]
  },
  {
   "cell_type": "code",
   "execution_count": 14,
   "id": "e3589e30",
   "metadata": {},
   "outputs": [],
   "source": [
    "class UserManager:\n",
    "    def getUserByToken(self, authToken):\n",
    "        pass"
   ]
  },
  {
   "cell_type": "code",
   "execution_count": 15,
   "id": "88b8c2cc",
   "metadata": {},
   "outputs": [],
   "source": [
    "class OrderManager:\n",
    "    def placeOrder(self, user):\n",
    "        permission = PermissionFactory().getPlacedOrderPermission(self.user)\n",
    "        if not permission:\n",
    "            raise Exception(\"Invalid!\")\n",
    "        cartManager = CartManager()\n",
    "        carManager.getUserManager(self.user)\n",
    "        orderId = DataAccessor.createOrder(self.user, self.cartItems)\n",
    "        cartManager().checkOutUser(self.user)\n",
    "        return Order(cartItems, orderId, self.user.getId, OrderStatus['orderPlaced'])\n",
    "    \n",
    "    def getOrders(self, user):\n",
    "        pass\n",
    "    \n",
    "    def getOrder(self, user):\n",
    "        pass\n",
    "    \n",
    "    def setOrderToCooking(self, user, order):\n",
    "        permission = PermissionFactory().getUpdateOrderPermission(self.user, self.order, OrderStatus['cooking'])\n",
    "        if not permission:\n",
    "            raise Exception(\"Invalid\")\n",
    "        if not self.order.getOrderStatus==OrderStatus['orderPlaced']:\n",
    "            raise Exception('Only Order Placed can be moved')\n",
    "    \n",
    "    def setOrderToCooking(self, user, order):\n",
    "        permission = PermissionFactory().getUpdateOrderPermission(self.user, self.order, OrderStatus['cooking'])\n",
    "        if not permission:\n",
    "            raise Exception(\"Invalid\")\n",
    "        if not self.order.getOrderStatus==OrderStatus['orderPlaced']:\n",
    "            raise Exception('Only Order Placed can be moved')\n",
    "    \n",
    "    def setOrderToCooking(self, user, order):\n",
    "        permission = PermissionFactory().getUpdateOrderPermission(self.user, self.order, OrderStatus['cooking'])\n",
    "        if not permission:\n",
    "            raise Exception(\"Invalid\")\n",
    "        if not self.order.getOrderStatus('orderPlaced')!=OrderStatus['orderPlaced']:\n",
    "            raise Exception('Only Order Placed can be moved')\n",
    "    \n",
    "    def setOrderToReadyForDelivery(self, user, order):\n",
    "        permission = PermissionFactory().getUpdateOrderPermission(self.user, self.order, OrderStatus['ReadyForDelivery'])\n",
    "        if not permission:\n",
    "            raise Exception(\"Invalid\")\n",
    "        if not self.order.getOrderStatus('orderPlaced')!=OrderStatus['orderPlaced']:\n",
    "            raise Exception('Only Order Placed can be moved')\n",
    "    \n",
    "    def setOrderToOutForDelivery(self, user, order):\n",
    "        permission = PermissionFactory().getUpdateOrderPermission(self.user, self.order, OrderStatus['outForDelivery'])\n",
    "        if not permission:\n",
    "            raise Exception(\"Invalid\")\n",
    "        if not self.order.getOrderStatus('orderPlaced')!=OrderStatus['orderPlaced']:\n",
    "            raise Exception('Only Order Placed can be moved')\n",
    "    \n",
    "    def setOrderToCancelled(self, user, order):\n",
    "        permission = PermissionFactory().getUpdateOrderPermission(self.user, self.order, OrderStatus['cancelled'])\n",
    "        if not permission:\n",
    "            raise Exception(\"Invalid\")\n",
    "        if not self.order.getOrderStatus('orderPlaced')!=OrderStatus['orderPlaced']:\n",
    "            raise Exception('Only Order Placed can be moved')"
   ]
  },
  {
   "cell_type": "code",
   "execution_count": 16,
   "id": "f0dc0c40",
   "metadata": {},
   "outputs": [],
   "source": [
    "class DeliveryManager:\n",
    "    def isDeliveryPossible(self, userAddress, restaurantAddress):\n",
    "        return True"
   ]
  },
  {
   "cell_type": "code",
   "execution_count": null,
   "id": "32019b20",
   "metadata": {},
   "outputs": [],
   "source": []
  }
 ],
 "metadata": {
  "kernelspec": {
   "display_name": "Python 3 (ipykernel)",
   "language": "python",
   "name": "python3"
  },
  "language_info": {
   "codemirror_mode": {
    "name": "ipython",
    "version": 3
   },
   "file_extension": ".py",
   "mimetype": "text/x-python",
   "name": "python",
   "nbconvert_exporter": "python",
   "pygments_lexer": "ipython3",
   "version": "3.9.5"
  }
 },
 "nbformat": 4,
 "nbformat_minor": 5
}
