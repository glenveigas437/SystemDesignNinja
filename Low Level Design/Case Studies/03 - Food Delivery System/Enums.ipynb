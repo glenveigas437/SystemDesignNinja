{
 "cells": [
  {
   "cell_type": "code",
   "execution_count": 2,
   "id": "19a84470",
   "metadata": {},
   "outputs": [],
   "source": [
    "from abc import ABC\n",
    "from enum import Enum"
   ]
  },
  {
   "cell_type": "code",
   "execution_count": 3,
   "id": "3108a5d7",
   "metadata": {},
   "outputs": [],
   "source": [
    "class MealType(Enum):\n",
    "    Veg = 1,\n",
    "    NonVeg = 2\n",
    "    \n",
    "    def getMealType(mealType):\n",
    "        try:\n",
    "            meal=MealType[mealType].value[0]\n",
    "            return True, meal\n",
    "        except:\n",
    "            return False, -1"
   ]
  },
  {
   "cell_type": "code",
   "execution_count": 4,
   "id": "b9aa46c4",
   "metadata": {},
   "outputs": [],
   "source": [
    "class Cuisine(Enum):\n",
    "    SouthIndian = 1,\n",
    "    Mughlai = 2,\n",
    "    Italian = 3,\n",
    "    Punjabi = 4,\n",
    "    American = 5,\n",
    "    Mexican = 6,\n",
    "    Chinese = 7,\n",
    "    Japanese = 8,\n",
    "    Korean = 9,\n",
    "    French = 10\n",
    "    \n",
    "    def getCuisine(cuisineType):\n",
    "        try:\n",
    "            cuisine=Cuisine[cuisineType]\n",
    "            cuisineValue=cuisine.value[0]\n",
    "            cuisneName=cuisine.name[0]\n",
    "            return True, cuisineValue, cuisineName\n",
    "        except:\n",
    "            return False, -1, None"
   ]
  },
  {
   "cell_type": "code",
   "execution_count": 5,
   "id": "d999057d",
   "metadata": {},
   "outputs": [],
   "source": [
    "class Rating(Enum):\n",
    "    one = 1,\n",
    "    two = 2,\n",
    "    three = 3,\n",
    "    four = 4,\n",
    "    five = 5\n",
    "    \n",
    "    def getRating(rating):\n",
    "        try:\n",
    "            rate=Rating[rating].value[0]\n",
    "            return True, rate\n",
    "        except:\n",
    "            return False, -1"
   ]
  },
  {
   "cell_type": "code",
   "execution_count": 6,
   "id": "01f0d7c7",
   "metadata": {},
   "outputs": [],
   "source": [
    "class PaymentStatus(Enum):\n",
    "    success = 1,\n",
    "    failed = 2\n",
    "    \n",
    "    def getPaymentStatus(status):\n",
    "        try:\n",
    "            status=PaymentStatus[status].value[0]\n",
    "            return  True, status\n",
    "        except:\n",
    "            return False, -1"
   ]
  },
  {
   "cell_type": "code",
   "execution_count": 7,
   "id": "9579ea23",
   "metadata": {},
   "outputs": [],
   "source": [
    "class PaymentMode(Enum):\n",
    "    netBanking = 1,\n",
    "    UPI = 2,\n",
    "    card = 3,\n",
    "    cashOnDelivery = 4\n",
    "    \n",
    "    def getPaymentMode(mode):\n",
    "        try:\n",
    "            mode = PaymentMode[mode].value[0]\n",
    "            return True, mode\n",
    "        except:\n",
    "            return False, -1"
   ]
  },
  {
   "cell_type": "code",
   "execution_count": 8,
   "id": "b3fc4191",
   "metadata": {},
   "outputs": [],
   "source": [
    "class OrderStatus(Enum):\n",
    "    orderPlaced = 1,\n",
    "    cooking = 2,\n",
    "    readyForDelivery = 3,\n",
    "    outForDelivery = 4, \n",
    "    Delivered = 5,\n",
    "    cancelled = 6\n",
    "    \n",
    "    def getOrderStatus(status):\n",
    "        try:\n",
    "            status = OrderStatus[status].value[0]\n",
    "            return True, status\n",
    "        except:\n",
    "            return False, -1"
   ]
  },
  {
   "cell_type": "code",
   "execution_count": null,
   "id": "9b1f195b",
   "metadata": {},
   "outputs": [],
   "source": []
  }
 ],
 "metadata": {
  "kernelspec": {
   "display_name": "Python 3 (ipykernel)",
   "language": "python",
   "name": "python3"
  },
  "language_info": {
   "codemirror_mode": {
    "name": "ipython",
    "version": 3
   },
   "file_extension": ".py",
   "mimetype": "text/x-python",
   "name": "python",
   "nbconvert_exporter": "python",
   "pygments_lexer": "ipython3",
   "version": "3.9.5"
  }
 },
 "nbformat": 4,
 "nbformat_minor": 5
}
