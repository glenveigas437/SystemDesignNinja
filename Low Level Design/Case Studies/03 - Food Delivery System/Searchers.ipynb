{
 "cells": [
  {
   "cell_type": "code",
   "execution_count": 1,
   "id": "2534b108",
   "metadata": {},
   "outputs": [],
   "source": [
    "class FoodItemSearcher:\n",
    "    def search(self, foodItem, filters):\n",
    "        if len(foodItem)==0 or foodItem is None:\n",
    "            return \"No Parameters Provided\"\n",
    "        foodItems=DataAccessor().getMatchingMealNames(foodItem)\n",
    "        FinalFoodList={}\n",
    "        for food in foodItems:\n",
    "            finalFoodList[food.id]=[]\n",
    "            passFood=0\n",
    "            if food.getSearchFilteredVars()==filters:\n",
    "                finalFoodList[food.id].append(food.name)\n",
    "        \n",
    "        return finalFoodList\n",
    "    \n",
    "    def searchFoodById(self, foodItemId):\n",
    "        pass"
   ]
  },
  {
   "cell_type": "code",
   "execution_count": 2,
   "id": "df49217a",
   "metadata": {},
   "outputs": [],
   "source": [
    "class RestaurantSearcher:\n",
    "    def search(self, restaurantName, mealType, cuisineType, rating):\n",
    "        result=self.searchByName(restaurantName)[0]\n",
    "        if result[0]:\n",
    "            return result[1]\n",
    "        else:\n",
    "            filters=[]\n",
    "            if mealType[0]:\n",
    "                filters.append(mealType[1])\n",
    "            else:\n",
    "                filters.append(None)\n",
    "            if cuisineType[0]:\n",
    "                filters.append(cuisineType[1])\n",
    "            else:\n",
    "                filters.append(None)\n",
    "            if rating[0]:\n",
    "                filters.append(rating[1])\n",
    "            else:\n",
    "                filters.append(None)\n",
    "            \n",
    "            return self.searchByFilters(filters)\n",
    "    \n",
    "    def searchByName(self, restaurantName):\n",
    "         return DataAccessor().getMatchingRestaurantNames(restaurantName)\n",
    "    \n",
    "    def searchByFilters(self, filters):\n",
    "        return list\n",
    "    \n",
    "    def searchById(self, restaurantId):\n",
    "        pass"
   ]
  },
  {
   "cell_type": "code",
   "execution_count": null,
   "id": "8aee1c61",
   "metadata": {},
   "outputs": [],
   "source": []
  }
 ],
 "metadata": {
  "kernelspec": {
   "display_name": "Python 3 (ipykernel)",
   "language": "python",
   "name": "python3"
  },
  "language_info": {
   "codemirror_mode": {
    "name": "ipython",
    "version": 3
   },
   "file_extension": ".py",
   "mimetype": "text/x-python",
   "name": "python",
   "nbconvert_exporter": "python",
   "pygments_lexer": "ipython3",
   "version": "3.9.5"
  }
 },
 "nbformat": 4,
 "nbformat_minor": 5
}
