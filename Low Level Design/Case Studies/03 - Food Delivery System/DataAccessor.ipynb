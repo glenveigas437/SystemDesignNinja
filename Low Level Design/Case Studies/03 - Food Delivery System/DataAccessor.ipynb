{
 "cells": [
  {
   "cell_type": "code",
   "execution_count": 1,
   "id": "35ff12bb",
   "metadata": {},
   "outputs": [],
   "source": [
    "class DataAccessor:\n",
    "    def getMatchingMealNames(self, foodItem):\n",
    "        pass\n",
    "    \n",
    "    def addItemsToCart(self, user, foodItem):\n",
    "        pass\n",
    "    \n",
    "    def getUserCart(self, user):\n",
    "        pass\n",
    "    \n",
    "    def deletItemsFromCart(self, user, foodItem):\n",
    "        pass\n",
    "    \n",
    "    def checkoutUserCart(self, user):\n",
    "        pass\n",
    "    \n",
    "    def createOrder(self, user, cartItems):\n",
    "        pass"
   ]
  }
 ],
 "metadata": {
  "kernelspec": {
   "display_name": "Python 3 (ipykernel)",
   "language": "python",
   "name": "python3"
  },
  "language_info": {
   "codemirror_mode": {
    "name": "ipython",
    "version": 3
   },
   "file_extension": ".py",
   "mimetype": "text/x-python",
   "name": "python",
   "nbconvert_exporter": "python",
   "pygments_lexer": "ipython3",
   "version": "3.9.5"
  }
 },
 "nbformat": 4,
 "nbformat_minor": 5
}
