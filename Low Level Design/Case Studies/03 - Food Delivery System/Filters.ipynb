{
 "cells": [
  {
   "cell_type": "code",
   "execution_count": 3,
   "id": "1f6debaa",
   "metadata": {},
   "outputs": [],
   "source": [
    "from abc import ABC"
   ]
  },
  {
   "cell_type": "code",
   "execution_count": 4,
   "id": "e0fae9a6",
   "metadata": {},
   "outputs": [],
   "source": [
    "class FoodItemFilter(ABC):\n",
    "    def filter(self, Item):\n",
    "        pass\n",
    "\n",
    "class RestaurantFilter(ABC):\n",
    "    def filter(self, restaurant):\n",
    "        pass\n",
    "    \n",
    "    def returnMultipleItems(self, cuisineList):\n",
    "        pass"
   ]
  },
  {
   "cell_type": "code",
   "execution_count": 5,
   "id": "8b243c19",
   "metadata": {},
   "outputs": [],
   "source": [
    "class MealTypeFilter(FoodItemFilter, RestaurantFilter):\n",
    "    def filter(self, mealType):\n",
    "        meals=MealType.getMealType(mealType)\n",
    "        if not meals[0]:\n",
    "            return None\n",
    "        else:\n",
    "            return meals[1]\n",
    "        \n",
    "class CuisineTypeFilter(FoodItemFilter, RestaurantFilter):\n",
    "    def filter(self, cuisineType):\n",
    "        cuisines=Cuisine.getCuisine(cuisineType)\n",
    "        if not cuisines[0]:\n",
    "            return None\n",
    "        else:\n",
    "            return cuisines[1]\n",
    "    \n",
    "    def returnMultipleItems(self, cuisineList):\n",
    "        cuisinesAvaialable=[]\n",
    "        for cuisine in cuisineList:\n",
    "            cuisinesAvaialable.append(Cuisine.getCuisine(cuisine).name)\n",
    "\n",
    "class RatingFilter(FoodItemFilter, RestaurantFilter):\n",
    "    def filter(self, ratingType):\n",
    "        ratings=Rating.getRating(ratingType)\n",
    "        if not ratings[0]:\n",
    "            return None\n",
    "        else:\n",
    "            return ratings[1]"
   ]
  },
  {
   "cell_type": "code",
   "execution_count": null,
   "id": "95ee60b1",
   "metadata": {},
   "outputs": [],
   "source": []
  }
 ],
 "metadata": {
  "kernelspec": {
   "display_name": "Python 3 (ipykernel)",
   "language": "python",
   "name": "python3"
  },
  "language_info": {
   "codemirror_mode": {
    "name": "ipython",
    "version": 3
   },
   "file_extension": ".py",
   "mimetype": "text/x-python",
   "name": "python",
   "nbconvert_exporter": "python",
   "pygments_lexer": "ipython3",
   "version": "3.9.5"
  }
 },
 "nbformat": 4,
 "nbformat_minor": 5
}
