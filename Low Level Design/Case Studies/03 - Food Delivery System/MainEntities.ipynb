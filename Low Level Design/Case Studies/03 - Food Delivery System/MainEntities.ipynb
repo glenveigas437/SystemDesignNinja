{
 "cells": [
  {
   "cell_type": "code",
   "execution_count": 1,
   "id": "8b4b9f3d",
   "metadata": {},
   "outputs": [],
   "source": [
    "class Address:\n",
    "    def __init__(self, addressLine1, addressLine2, city, pinCode, state):\n",
    "        self.addressLine1 = addressLine1\n",
    "        self.addressLine2 = addressLine2\n",
    "        self.city = city\n",
    "        self.pinCode = pinCode\n",
    "        self.state = state"
   ]
  },
  {
   "cell_type": "code",
   "execution_count": 2,
   "id": "09cd5cb3",
   "metadata": {},
   "outputs": [],
   "source": [
    "class BusinessHours:\n",
    "    def __init__(self, openingTime, closingTime):\n",
    "        self.openingTime = self.getTimeFromString(openingTime)\n",
    "        self.closingTime = self.getTimeFromString(closingTime)\n",
    "        \n",
    "    def getTimeFromString(self, datetimeStr):\n",
    "        datetimeStr = datetimeStr\n",
    "\n",
    "        datetimeStr = datetimeStr.split(' ')\n",
    "        if(datetimeStr[-1]=='PM' and datetimeStr[0]!='12'):\n",
    "            hour = int(datetimeStr[0])+12\n",
    "            datetimeStr = str(hour)+':'+'00'+':'+'00'\n",
    "        else:\n",
    "            if(datetimeStr[0]=='12'):\n",
    "                datetimeStr[0]=='00'\n",
    "            datetimeStr = datetimeStr[0]+':'+'00'+':'+'00'\n",
    "\n",
    "        datetimeObject = datetime.strptime(datetimeStr, '%H:%M:%S')\n",
    "        \n",
    "        return datetimeObject.hour\n",
    "    \n",
    "    def displayDateTime(self):\n",
    "        unit='AM' if(self.openingTime<11) else 'PM'\n",
    "        hour = self.openingTime if(1<=self.openingTime<=12) else abs(self.openingTime-12) \n",
    "        openTime = str(openingTime) + unit\n",
    "        \n",
    "        unit='AM' if(self.closingTime<11) else 'PM'\n",
    "        hour = self.closingTime if(1<=self.closingTime<=12) else abs(self.closingTime-12) \n",
    "        closeTime = str(closeTime) + unit\n",
    "        \n",
    "        \n",
    "        return openTime+\" - \"+closeTime"
   ]
  },
  {
   "cell_type": "code",
   "execution_count": 3,
   "id": "6c320935",
   "metadata": {},
   "outputs": [],
   "source": [
    "class PaymentResponse:\n",
    "    def __init__(self, id, amount, paymentStatus):\n",
    "        self.id=id\n",
    "        self.amount=amount\n",
    "        self.paymentStatus = paymentStatus"
   ]
  },
  {
   "cell_type": "code",
   "execution_count": 4,
   "id": "9b092434",
   "metadata": {},
   "outputs": [],
   "source": [
    "class FoodItem:\n",
    "    def __init__(self, id, name, description, price, mealType, cuisineType, ratings, restaurantID, isAvalaible):\n",
    "        self.id  = id\n",
    "        self.name = name\n",
    "        self.description = description\n",
    "        self.price = price\n",
    "        self.mealType = MealType.getMealType(mealType)\n",
    "        self.cuisineType = Cuisine.getCuisine(cuisineType)[1]\n",
    "        self.ratings = Rating.getRating(ratings)\n",
    "        self.restaurantID = restaurantID\n",
    "        self.isAvailable = isAvalaible\n",
    "    \n",
    "    def getSearchFilteredVars(self):\n",
    "        return [self.mealType, self.cuisineType, self.ratings]"
   ]
  },
  {
   "cell_type": "code",
   "execution_count": 5,
   "id": "fdf9572a",
   "metadata": {},
   "outputs": [],
   "source": [
    "class Restaurant:\n",
    "    def __init__(id, name, description, businessHours, mealType, cuisineType, rating, menu, address):\n",
    "        self.id = id\n",
    "        self.name = name\n",
    "        self.description = description\n",
    "        self.businessHours = [BusinessHours().openingTime, \"-\", BusinessHours.closingTime]\n",
    "        self.mealType = MealType.getMealType(mealType)\n",
    "        self.cusineType = self.CuisineTypeFilter.returnMultipleItems(cuisineType)\n",
    "        self.rating = Rating.getRating(rating)\n",
    "        self.menu = Menu.getMenu(menu)\n",
    "        self.address = Address()"
   ]
  },
  {
   "cell_type": "code",
   "execution_count": 6,
   "id": "626d495b",
   "metadata": {},
   "outputs": [],
   "source": [
    "class User:\n",
    "    def __init__(self,id,name,address,phoneNumber,email):\n",
    "        self.id = id\n",
    "        self.name = name\n",
    "        self.address = Address()\n",
    "        self.phoneNumber = phoneNumber\n",
    "        self.email = email"
   ]
  },
  {
   "cell_type": "code",
   "execution_count": 7,
   "id": "8a91ca74",
   "metadata": {},
   "outputs": [],
   "source": [
    "class Menu:\n",
    "    def __init__(self, menuList):\n",
    "        self.menu=menuList\n",
    "    \n",
    "    def getMenuList(self):\n",
    "        return self.menu"
   ]
  },
  {
   "cell_type": "code",
   "execution_count": 8,
   "id": "e5ed04ab",
   "metadata": {},
   "outputs": [],
   "source": [
    "class Order:\n",
    "    def __init__(self, cartItems, orderId, userId, orderStatus):\n",
    "        self.cartItems=cartItems\n",
    "        self.orderId=orderId\n",
    "        self.userId=userId\n",
    "        self.orderStatus=orderStatus"
   ]
  },
  {
   "cell_type": "code",
   "execution_count": 9,
   "id": "e75e9491",
   "metadata": {},
   "outputs": [],
   "source": [
    "class CartItem:\n",
    "    def __init__(self, foodItem, quantity):\n",
    "        self.foodItem=foodItem\n",
    "        self.quantity=quantity"
   ]
  }
 ],
 "metadata": {
  "kernelspec": {
   "display_name": "Python 3 (ipykernel)",
   "language": "python",
   "name": "python3"
  },
  "language_info": {
   "codemirror_mode": {
    "name": "ipython",
    "version": 3
   },
   "file_extension": ".py",
   "mimetype": "text/x-python",
   "name": "python",
   "nbconvert_exporter": "python",
   "pygments_lexer": "ipython3",
   "version": "3.9.5"
  }
 },
 "nbformat": 4,
 "nbformat_minor": 5
}
