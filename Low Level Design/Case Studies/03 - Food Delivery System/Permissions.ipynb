{
 "cells": [
  {
   "cell_type": "code",
   "execution_count": 17,
   "id": "b677e24e",
   "metadata": {},
   "outputs": [],
   "source": [
    "from abc import ABC\n",
    "import import_ipynb"
   ]
  },
  {
   "cell_type": "code",
   "execution_count": 19,
   "id": "9f2179bd",
   "metadata": {},
   "outputs": [],
   "source": [
    "from MainEntities import *"
   ]
  },
  {
   "cell_type": "code",
   "execution_count": 20,
   "id": "b903c9d3",
   "metadata": {},
   "outputs": [],
   "source": [
    "class Permission(ABC):\n",
    "    def isPermitted(self):\n",
    "        pass"
   ]
  },
  {
   "cell_type": "code",
   "execution_count": 24,
   "id": "02302290",
   "metadata": {},
   "outputs": [],
   "source": [
    "class AddToCartPermission(Permission):\n",
    "    user = User('id', 'name', 'address', 'phoneNumber', 'email')\n",
    "    foodItem = FoodItem('id', 'name', 'description', 'price', 'mealType', 'cuisineType', 'ratings', 'restaurantID', 'isAvalaible')\n",
    "    deliveryManager = DeliveryManager() \n",
    "    \n",
    "    def isPermitted(self, user, foodItem):\n",
    "        if not foodItem.isAvailable():\n",
    "            return False\n",
    "        restaurant = RestaurantSearcher().searchById(foodItem.restaurantID())\n",
    "        return deliveryManager.isDeliveryPossible(user.address, restaurant.address)"
   ]
  },
  {
   "cell_type": "code",
   "execution_count": 26,
   "id": "de58677c",
   "metadata": {},
   "outputs": [],
   "source": [
    "class CheckOutCartPermission(Permission):\n",
    "    user = User()\n",
    "    \n",
    "    def isPermitted(self, user):\n",
    "        pass"
   ]
  },
  {
   "cell_type": "code",
   "execution_count": null,
   "id": "a9fb9c81",
   "metadata": {},
   "outputs": [],
   "source": [
    "class DeleteFromCartPermission(Permission):\n",
    "    user = User()\n",
    "    foodItem = FoodItem()\n",
    "    \n",
    "    def isPermitted(self, user, foodItem):\n",
    "        pass"
   ]
  },
  {
   "cell_type": "code",
   "execution_count": null,
   "id": "16a9031e",
   "metadata": {},
   "outputs": [],
   "source": [
    "class UpdateCartPermission(Permission):\n",
    "    user = User()\n",
    "    foodItem = FoodItem()\n",
    "    \n",
    "    def isPermitted(self, user, foodItem):\n",
    "        pass"
   ]
  },
  {
   "cell_type": "code",
   "execution_count": null,
   "id": "219b7060",
   "metadata": {},
   "outputs": [],
   "source": [
    "class ProceedToCheckoutPermission(Permission):\n",
    "    user = User()\n",
    "    \n",
    "    def isPermitted(self, user):\n",
    "        pass"
   ]
  },
  {
   "cell_type": "code",
   "execution_count": null,
   "id": "41cfefd2",
   "metadata": {},
   "outputs": [],
   "source": [
    "class PlacedOrderPermission(Permission):\n",
    "    user = User()\n",
    "    \n",
    "    def isPermitted(self, user):\n",
    "        pass"
   ]
  },
  {
   "cell_type": "code",
   "execution_count": null,
   "id": "a3b4211e",
   "metadata": {},
   "outputs": [],
   "source": [
    "class UpdateOrderPermission(Permission):\n",
    "    user = User()\n",
    "    \n",
    "    def isPermitted(self, user):\n",
    "        pass"
   ]
  },
  {
   "cell_type": "code",
   "execution_count": null,
   "id": "4ff86c42",
   "metadata": {},
   "outputs": [],
   "source": []
  }
 ],
 "metadata": {
  "kernelspec": {
   "display_name": "Python 3 (ipykernel)",
   "language": "python",
   "name": "python3"
  },
  "language_info": {
   "codemirror_mode": {
    "name": "ipython",
    "version": 3
   },
   "file_extension": ".py",
   "mimetype": "text/x-python",
   "name": "python",
   "nbconvert_exporter": "python",
   "pygments_lexer": "ipython3",
   "version": "3.9.5"
  }
 },
 "nbformat": 4,
 "nbformat_minor": 5
}
