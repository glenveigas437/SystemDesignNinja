{
 "cells": [
  {
   "cell_type": "code",
   "execution_count": 1,
   "id": "b47dc897",
   "metadata": {},
   "outputs": [],
   "source": [
    "import sqlite3 as sql"
   ]
  },
  {
   "cell_type": "code",
   "execution_count": 11,
   "id": "c79b0fce",
   "metadata": {},
   "outputs": [],
   "source": [
    "import datetime"
   ]
  },
  {
   "cell_type": "code",
   "execution_count": 1212,
   "id": "2afec13f",
   "metadata": {},
   "outputs": [],
   "source": [
    "from abc import ABC"
   ]
  },
  {
   "cell_type": "code",
   "execution_count": 2,
   "id": "85affdd7",
   "metadata": {},
   "outputs": [],
   "source": [
    "database = \"library.db\"\n",
    "connection = sql.connect(database)"
   ]
  },
  {
   "cell_type": "code",
   "execution_count": 3,
   "id": "0e27b2be",
   "metadata": {},
   "outputs": [],
   "source": [
    "connectDB = connection.cursor()"
   ]
  },
  {
   "cell_type": "code",
   "execution_count": 4,
   "id": "eae0bca2",
   "metadata": {},
   "outputs": [
    {
     "data": {
      "text/plain": [
       "<sqlite3.Cursor at 0x25fd1752340>"
      ]
     },
     "execution_count": 4,
     "metadata": {},
     "output_type": "execute_result"
    }
   ],
   "source": [
    "connectDB.execute(\"\"\"CREATE table Authors (\n",
    "                    id integer not null primary key,\n",
    "                    name text)\"\"\")\n",
    "\n",
    "connectDB.execute(\"\"\"CREATE table Publications (\n",
    "                    id integer not null primary key,\n",
    "                    name text)\"\"\")\n",
    "\n",
    "connectDB.execute(\"\"\"CREATE table Books (\n",
    "                    id integer not null primary key,\n",
    "                    name text,\n",
    "                    copy text,\n",
    "                    genre text,\n",
    "                    authID integer,\n",
    "                    pubID integer,\n",
    "                    FOREIGN KEY (authID) REFERENCES Authors (id) ON DELETE CASCADE ON UPDATE NO ACTION,\n",
    "                    FOREIGN KEY (pubID) REFERENCES Publications (id) ON DELETE CASCADE ON UPDATE NO ACTION)\"\"\")"
   ]
  },
  {
   "cell_type": "code",
   "execution_count": 74,
   "id": "9296f1ba",
   "metadata": {},
   "outputs": [
    {
     "data": {
      "text/plain": [
       "<sqlite3.Cursor at 0x25fd1752340>"
      ]
     },
     "execution_count": 74,
     "metadata": {},
     "output_type": "execute_result"
    }
   ],
   "source": [
    "connectDB.execute(\"\"\"CREATE table Members(\n",
    "                    id integer not null primary key,\n",
    "                    name text,\n",
    "                    status text)\"\"\")"
   ]
  },
  {
   "cell_type": "code",
   "execution_count": 75,
   "id": "d3c2188f",
   "metadata": {},
   "outputs": [
    {
     "data": {
      "text/plain": [
       "<sqlite3.Cursor at 0x25fd1752340>"
      ]
     },
     "execution_count": 75,
     "metadata": {},
     "output_type": "execute_result"
    }
   ],
   "source": [
    "connectDB.execute(\"\"\"CREATE table Issue(\n",
    "                    id integer,\n",
    "                    bookID integer,\n",
    "                    issuerID integer,\n",
    "                    timeofIsuue datetime,\n",
    "                    returnDate datetime,\n",
    "                    status text,\n",
    "                    FOREIGN KEY (issuerID) REFERENCES Members (id) ON DELETE CASCADE ON UPDATE NO ACTION\n",
    "                    )\"\"\")"
   ]
  },
  {
   "cell_type": "code",
   "execution_count": 1207,
   "id": "92a0ae5b",
   "metadata": {},
   "outputs": [],
   "source": [
    "class Tester:\n",
    "    \n",
    "    def searchByBookName(self, bookName):\n",
    "        sBook=SearchBook()\n",
    "        return sBook.search(bookName)\n",
    "        \n",
    "    def searchByAuthor(self, authorName):\n",
    "        sAuthor=SearchAuthor()\n",
    "        return sAuthor.search(authorName)\n",
    "    \n",
    "    def searchByPublication(self, publishingHouse):\n",
    "        sPub=SearchPublication()\n",
    "        return sPub.search(publishingHouse)\n",
    "    \n",
    "    def searchByGenre(self, genre):\n",
    "        sGenre = SearchGenre()\n",
    "        sGenre.search(genre)\n",
    "    \n",
    "    def searchMemberName(self, name):\n",
    "        sName=SearchMemberByName()\n",
    "        return sName.search(name)\n",
    "        \n",
    "    \n",
    "    def lastBookAdded(self):\n",
    "        countOfBooks=connectDB.execute(\"\"\"Select count(*) from Books\"\"\")\n",
    "        countOfBooks=countOfBooks.fetchone()[0]\n",
    "        if countOfBooks == 0:\n",
    "            return 0\n",
    "        lastBook=connectDB.execute(\"Select * from Books\")\n",
    "        for last in lastBook:\n",
    "            lastBk=last[0]\n",
    "        \n",
    "        return lastBk\n",
    "    \n",
    "    def addBook(self, bookName, numberOfCopies, genre, author, publication):\n",
    "        bkName, bkId = self.searchByBookName(bookName)\n",
    "        if bkId == -1:\n",
    "            countOfBooks=self.lastBookAdded()\n",
    "            countOfBooks+=1\n",
    "            authName, authId = self.searchByAuthor(author)\n",
    "            if authId == -1:\n",
    "                authName, authId = self.addAuthor(author)\n",
    "            pubName, pubId = self.searchByPublication(publication)\n",
    "            if pubId == -1:\n",
    "                pubName, pubId = self.addPublication(publication)\n",
    "            connectDB.execute(\"INSERT into Books values(:id, :name, :copy, :genre, :authID, :pubID)\",\\\n",
    "                              {'id':countOfBooks, \n",
    "                               'name':bookName,\n",
    "                               'copy':numberOfCopies,\n",
    "                               'genre':genre,\n",
    "                               'authID':authId,\n",
    "                               'pubID':pubId})\n",
    "            connection.commit()\n",
    "            return f'{bookName} added to the database'\n",
    "        return \"Book Present in the Database\"\n",
    "    \n",
    "    def addAuthor(self, authorName):\n",
    "        authName, authorId = self.searchByAuthor(authorName)\n",
    "        if authorId == -1:\n",
    "            countOfAuthors=connectDB.execute(\"\"\"Select count(*) from Authors\"\"\")\n",
    "            countOfAuthors=countOfAuthors.fetchone()[0]\n",
    "            countOfAuthors+=1\n",
    "            connectDB.execute(\"INSERT into Authors values(:id, :name)\", {'id':countOfAuthors, 'name':authorName})\n",
    "            connection.commit()\n",
    "            return authorName, countOfAuthors\n",
    "        return authName, authorId\n",
    "            \n",
    "    def addPublication(self, publicationName):\n",
    "        pubName, pubId = self.searchByPublication(publicationName)\n",
    "        if pubId == -1:\n",
    "            countOfPublications=connectDB.execute(\"\"\"Select count(*) from Publications\"\"\")\n",
    "            countOfPublications=countOfPublications.fetchone()[0]\n",
    "            countOfPublications+=1\n",
    "            connectDB.execute(\"INSERT into Publications values(:id, :name)\", {'id':countOfPublications, 'name':publicationName})\n",
    "            connection.commit()\n",
    "            return publicationName, countOfPublications\n",
    "        return pubName, pubId\n",
    "    \n",
    "    def deleteBook(self, bookName):\n",
    "        bookName = connectDB.execute(\"Select * from Books where name=?\", (bookName,))\n",
    "        bookName = bookName.fetchall()\n",
    "        if not len(bookName):\n",
    "            return \"Book not present in the database\"\n",
    "        else:\n",
    "            connectDB.execute(\"Delete from Books where name=?\",(bookName[0][1],))\n",
    "            connection.commit()\n",
    "            return f'Book {bookName[0][1]} has been deleted'\n",
    "    \n",
    "    def addMember(self, memberName, status):\n",
    "        countMembers = connectDB.execute(\"Select count(*) from Members\")\n",
    "        countMembers = countMembers.fetchone()[0]\n",
    "        countMembers+=1\n",
    "        \n",
    "        connectDB.execute(\"INSERT into Members values(:id, :name, :status)\",{'id':countMembers, 'name':memberName, 'status':'Active'})\n",
    "        connection.commit()\n",
    "        return f'New Library Member {memberName} added'\n",
    "    \n",
    "    def changeMemberStatus(self, memberName):\n",
    "        memberStatus = connectDB.execute(\"SELECT status, id from Members where name=?\",(memberName,))\n",
    "        memberStatusHelper = memberStatus.fetchone()\n",
    "        memberStat = memberStatusHelper[0]\n",
    "        memberID = memberStatusHelper[1]\n",
    "        if memberStat == 'Blocked':\n",
    "            memberStat = 'Active'\n",
    "        else:\n",
    "            memberStat = 'Blocked'\n",
    "        connectDB.execute(\"UPDATE Members SET status=:memStat where id=:memID\",{'memStat':memberStatus, 'memID':memberID,})\n",
    "        connection.commit()\n",
    "        return f\"{memberName}'s status has been updated to {memberStatus}\"\n",
    "    \n",
    "    def issueBook(self, bookName, issuerName):\n",
    "        bookDetails = connectDB.execute(\"SELECT copy, id from Books where name=?\", (bookName,))\n",
    "        bookDetails = bookDetails.fetchone()\n",
    "        bookCount, bookId = bookDetails[0], bookDetails[1]\n",
    "        issueMember = connectDB.execute(\"SELECT id, status from Members where name=?\", (issuerName,))\n",
    "        issueMembers = issueMember.fetchone()\n",
    "        issueMemberId, memberStatus = issueMembers[0], issueMembers[1]\n",
    "        booksByMember=self.calculateBooksIssuedByMember(issuerName)\n",
    "        memberFine = self.calculateFine(issuerName)\n",
    "        if int(bookCount)>0 and memberStatus!='Blocked' and booksByMember<5 and memberFine==0:\n",
    "            issueCount = connectDB.execute(\"SELECT count(*) from Issue\")\n",
    "            issueCount = issueCount.fetchone()[0]\n",
    "            issueCount+=1\n",
    "            connectDB.execute(\"INSERT into Issue values(:id, :bookId, :issuerId, :timeOfIsuue, :returnDate, :status)\", \\\n",
    "                             {'id':issueCount,\n",
    "                              'bookId':bookId,\n",
    "                              'issuerId':issueMemberId,\n",
    "                              'timeOfIsuue':datetime.datetime.now(),\n",
    "                              'returnDate':None,\n",
    "                              'status':'Not Returned'})\n",
    "            connectDB.execute(\"UPDATE Books SET copy=? WHERE id=?\",(int(bookCount)-1, bookId,))\n",
    "            connection.commit()\n",
    "            return f'{bookName} was issued to {issuerName} for 30 days'\n",
    "        return f'Cannot Issue {bookName} to {issuerName}'\n",
    "        \n",
    "    def returnBook(self, memberName, bookName):\n",
    "        memberID = connectDB.execute(\"SELECT id from Members where name=?\",(memberName,))\n",
    "        memberID = memberID.fetchone()[0]\n",
    "        bookID = connectDB.execute(\"SELECT id from Books where name=?\",(bookName,))\n",
    "        bookID = bookID.fetchone()[0]\n",
    "        issueID = connectDB.execute(\"SELECT id from Issue where Issue.issuerID=? and Issue.bookID=? and Issue.status=?\",(memberID, bookID, 'Not Returned',))\n",
    "        issueID = issueID.fetchone()[0]\n",
    "        connectDB.execute(\"UPDATE Issue SET status=:newStatus, returnDate=:retDate where id=:id\",{'newStatus':'Returned','retDate':datetime.datetime.now(),'id':issueID})\n",
    "        copies=connectDB.execute(\"SELECT copy from Books where id=?\",(bookID,))\n",
    "        copies=copies.fetchone()[0]\n",
    "        copies=int(copies)\n",
    "        copies+=1\n",
    "        connectDB.execute(\"UPDATE Books SET copy=:copies where id=:bookID\",{'copies':copies, 'bookID':bookID})\n",
    "        connection.commit()\n",
    "        return f\"{bookName} has been returned by {memberName}\"\n",
    "        \n",
    "    def getBookBorrower(self, bookName):\n",
    "        bookID=connectDB.execute(\"SELECT id from Books where name=?\",(bookName,))\n",
    "        bookID = bookID.fetchone()[0]\n",
    "        records=connectDB.execute(\"SELECT Members.name, Issue.timeofIsuue from Members INNER JOIN Issue ON Members.id=Issue.IssuerID where Issue.bookID=? and Issue.status=?\",(bookID,'Not Returned',))\n",
    "        records = records.fetchall()\n",
    "        if not len(records):\n",
    "            print(f'{bookName} was issued by None')\n",
    "        else:\n",
    "            print(f'{bookName} issued by the following Members')\n",
    "            print(\"Member Name\", \"\\t\", \"Date and Time\")\n",
    "\n",
    "            for record in records:\n",
    "                print(record[0][:20], end=\"\\t\\t\")\n",
    "                print(record[1][:-10])\n",
    "        \n",
    "    def getMemberBookDetails(self, memberName):\n",
    "        memberID = connectDB.execute(\"SELECT id from Members where name=?\",(memberName,))\n",
    "        memberID = memberID.fetchone()[0]\n",
    "        memberBooks = connectDB.execute(\"SELECT name from Books INNER JOIN Issue ON Issue.bookID=Books.id where Issue.IssuerID=? and Issue.status=?\",(memberID,'Not Returned',))\n",
    "        memberBooks = memberBooks.fetchall()\n",
    "        \n",
    "        if not len(memberBooks):\n",
    "            print(f\"No Books issued by {memberName}\")\n",
    "            return 0\n",
    "        \n",
    "        print(f\"Books issued by {memberName}\")\n",
    "        for memberBook in memberBooks:\n",
    "            print(memberBook[0])\n",
    "        return len(memberBooks)\n",
    "        \n",
    "    def calculateFine(self, memberName):\n",
    "        memberID = connectDB.execute(\"SELECT id from Members where name=?\",(memberName,))\n",
    "        memberID = memberID.fetchone()[0]\n",
    "        memberBooks = connectDB.execute(\"SELECT Books.name, Issue.timeofIsuue, Issue.returnDate from Books INNER JOIN Issue ON Issue.bookID=Books.id where Issue.IssuerID=?\",(memberID,))\n",
    "        memberBooks = memberBooks.fetchall()\n",
    "        if not len(memberBooks):\n",
    "            return 0\n",
    "        \n",
    "        print(f\"Fine Sheet for {memberName}: \")\n",
    "        fine=0\n",
    "        print(\"Book\", \"\\t\\t\\t\", \"Issue Date\", \"\\t\", \"Return Date\", \"\\t\", \"Fine\")\n",
    "        for memberBook in memberBooks:\n",
    "            issueDate = memberBook[1]\n",
    "            returnDate = memberBook[2]\n",
    "            if returnDate is None:\n",
    "                fine+=0\n",
    "            else:\n",
    "                format = '%Y-%m-%d'\n",
    "                issueDate = datetime.datetime.strptime(issueDate[:10], format)\n",
    "                returnDate = datetime.datetime.strptime(returnDate[:10], format)\n",
    "                day = returnDate - issueDate\n",
    "                if day.days>30:\n",
    "                    extraDays = day.days-30\n",
    "                    fine+=(extraDays*10)\n",
    "            print(memberBook[0][:20], end=\"\\t\\t\")\n",
    "            print(memberBook[1][:10], end=\"\\t\")\n",
    "            if memberBook[2]:\n",
    "                print(memberBook[2][:10], end=\"\\t\\t \")\n",
    "            else:\n",
    "                print(memberBook[2], end=\"\\t\\t \")\n",
    "            print(fine)\n",
    "        \n",
    "        print(\"Total Fine is: \",fine)\n",
    "        return fine\n",
    "        \n",
    "    \n",
    "    def calculateBooksIssuedByMember(self, memberName):\n",
    "        return self.getMemberBookDetails(memberName)"
   ]
  },
  {
   "cell_type": "code",
   "execution_count": 1208,
   "id": "6b220408",
   "metadata": {},
   "outputs": [],
   "source": [
    "test=Tester()"
   ]
  },
  {
   "cell_type": "code",
   "execution_count": 885,
   "id": "068dc4bd",
   "metadata": {},
   "outputs": [],
   "source": [
    "class BookSearch(ABC):\n",
    "    def search(self):\n",
    "        pass"
   ]
  },
  {
   "cell_type": "code",
   "execution_count": 835,
   "id": "dc3822c5",
   "metadata": {},
   "outputs": [],
   "source": [
    "class SearchBook(BookSearch):\n",
    "    def search(self, bookName):\n",
    "        books = connectDB.execute(\"Select * from Books where name=?\", (bookName,))\n",
    "        books = books.fetchall()\n",
    "        if not len(books):\n",
    "            return \"Books not available\", -1\n",
    "        for book in books:\n",
    "            return book[1], book[0]"
   ]
  },
  {
   "cell_type": "code",
   "execution_count": 836,
   "id": "05b044ca",
   "metadata": {},
   "outputs": [],
   "source": [
    "class SearchAuthor(BookSearch):\n",
    "    def search(self, authorName):\n",
    "        authors = connectDB.execute(\"Select * from Authors where name=?\", (authorName,))\n",
    "        authors = authors.fetchall()\n",
    "        if not len(authors):\n",
    "            return \"Author not Available\", -1\n",
    "        for author in authors:\n",
    "            return author[1], author[0]"
   ]
  },
  {
   "cell_type": "code",
   "execution_count": 837,
   "id": "be33bb12",
   "metadata": {},
   "outputs": [],
   "source": [
    "class SearchPublication(BookSearch):\n",
    "    def search(self, publishingHouse):\n",
    "        publications = connectDB.execute(\"Select * from Publications where name=?\", (publishingHouse,))\n",
    "        publications = publications.fetchall()\n",
    "        if not len(publications):\n",
    "            return \"Publication not Available\", -1\n",
    "        for publication in publications:\n",
    "            return publication[1], publication[0]"
   ]
  },
  {
   "cell_type": "code",
   "execution_count": 838,
   "id": "f5c2bfcf",
   "metadata": {},
   "outputs": [],
   "source": [
    "class searchGenre(BookSearch):\n",
    "    def search(self, genre):\n",
    "        genres = connectDB.execute(\"Select name from Books where genre=?\", (genre,))\n",
    "        if not len(genres.fetchall()):\n",
    "            return \"Genre not Available\"\n",
    "        for genre in genres:\n",
    "            print(genre)"
   ]
  },
  {
   "cell_type": "code",
   "execution_count": 839,
   "id": "de1de143",
   "metadata": {},
   "outputs": [],
   "source": [
    "class MemberSearch(ABC):\n",
    "    def search(self):\n",
    "        pass"
   ]
  },
  {
   "cell_type": "code",
   "execution_count": 840,
   "id": "790b45c4",
   "metadata": {},
   "outputs": [],
   "source": [
    "class SearchMemberByID(MemberSearch):\n",
    "    def search(self, memberID):\n",
    "        member=connectDB.execute(\"SELECT * from Members where id=?\",(memberID,))\n",
    "        return member.fetchone()[0]"
   ]
  },
  {
   "cell_type": "code",
   "execution_count": 841,
   "id": "5e50532b",
   "metadata": {},
   "outputs": [],
   "source": [
    "class SearchMemberByName(MemberSearch):\n",
    "    def search(self, memberName):\n",
    "        member = connectDB.execute(\"SELECT * from Members where name=?\",(memberName,))\n",
    "        return member.fetchone()[0]"
   ]
  },
  {
   "cell_type": "code",
   "execution_count": 1209,
   "id": "e3a4289d",
   "metadata": {},
   "outputs": [
    {
     "data": {
      "text/plain": [
       "'Kafka On The Shore added to the database'"
      ]
     },
     "execution_count": 1209,
     "metadata": {},
     "output_type": "execute_result"
    }
   ],
   "source": [
    "test.addBook(\"Kafka On The Shore\", 2, \"Novel\", \"Murukami\", \"McMilan Books\")"
   ]
  },
  {
   "cell_type": "code",
   "execution_count": 1170,
   "id": "45980d8c",
   "metadata": {},
   "outputs": [
    {
     "data": {
      "text/plain": [
       "'IELTS Test Prep added to the database'"
      ]
     },
     "execution_count": 1170,
     "metadata": {},
     "output_type": "execute_result"
    }
   ],
   "source": [
    "test.addBook(\"IELTS Test Prep\", 1, \"Education\", \"Dr Kiran Preet Kaur\", \"British Council\")"
   ]
  },
  {
   "cell_type": "code",
   "execution_count": 1169,
   "id": "5faa95a6",
   "metadata": {},
   "outputs": [
    {
     "data": {
      "text/plain": [
       "'Book IELTS Test Prep has been deleted'"
      ]
     },
     "execution_count": 1169,
     "metadata": {},
     "output_type": "execute_result"
    }
   ],
   "source": [
    "test.deleteBook('IELTS Test Prep')"
   ]
  },
  {
   "cell_type": "code",
   "execution_count": 796,
   "id": "cbbd1b6d",
   "metadata": {},
   "outputs": [
    {
     "data": {
      "text/plain": [
       "'New Library Member Glen added'"
      ]
     },
     "execution_count": 796,
     "metadata": {},
     "output_type": "execute_result"
    }
   ],
   "source": [
    "test.addMember('Glen','Active')"
   ]
  },
  {
   "cell_type": "code",
   "execution_count": 798,
   "id": "92731df9",
   "metadata": {},
   "outputs": [
    {
     "data": {
      "text/plain": [
       "'New Library Member Vinisha added'"
      ]
     },
     "execution_count": 798,
     "metadata": {},
     "output_type": "execute_result"
    }
   ],
   "source": [
    "test.addMember('Vinisha', 'Active')"
   ]
  },
  {
   "cell_type": "code",
   "execution_count": 799,
   "id": "82985482",
   "metadata": {},
   "outputs": [
    {
     "data": {
      "text/plain": [
       "'New Library Member Cristiano added'"
      ]
     },
     "execution_count": 799,
     "metadata": {},
     "output_type": "execute_result"
    }
   ],
   "source": [
    "test.addMember('Cristiano', 'Active')"
   ]
  },
  {
   "cell_type": "code",
   "execution_count": 801,
   "id": "3ff342d2",
   "metadata": {},
   "outputs": [
    {
     "data": {
      "text/plain": [
       "'New Library Member Elvisha added'"
      ]
     },
     "execution_count": 801,
     "metadata": {},
     "output_type": "execute_result"
    }
   ],
   "source": [
    "test.addMember('Elvisha', 'Active')"
   ]
  },
  {
   "cell_type": "code",
   "execution_count": 901,
   "id": "f6a40bd6",
   "metadata": {},
   "outputs": [
    {
     "data": {
      "text/plain": [
       "'Rich Dad Poor Dad was issued to Elvisha for 30 days'"
      ]
     },
     "execution_count": 901,
     "metadata": {},
     "output_type": "execute_result"
    }
   ],
   "source": [
    "test.issueBook('Rich Dad Poor Dad', 'Elvisha')"
   ]
  },
  {
   "cell_type": "code",
   "execution_count": 1171,
   "id": "4782b352",
   "metadata": {},
   "outputs": [
    {
     "name": "stdout",
     "output_type": "stream",
     "text": [
      "Books issued by Vinisha\n",
      "Rich Dad Poor Dad\n"
     ]
    },
    {
     "data": {
      "text/plain": [
       "'IELTS Test Prep was issued to Vinisha for 30 days'"
      ]
     },
     "execution_count": 1171,
     "metadata": {},
     "output_type": "execute_result"
    }
   ],
   "source": [
    "test.issueBook('IELTS Test Prep', 'Vinisha')"
   ]
  },
  {
   "cell_type": "code",
   "execution_count": 1141,
   "id": "3ac4d686",
   "metadata": {},
   "outputs": [
    {
     "name": "stdout",
     "output_type": "stream",
     "text": [
      "Rich Dad Poor Dad issued by the following Members\n",
      "Member Name \t Date and Time\n",
      "Vinisha\t\t2022-05-14 10:32\n",
      "Glen\t\t2022-05-14 10:32\n",
      "Elvisha\t\t2022-05-14 10:32\n"
     ]
    }
   ],
   "source": [
    "test.getBookBorrower('Rich Dad Poor Dad')"
   ]
  },
  {
   "cell_type": "code",
   "execution_count": 1151,
   "id": "5adc3543",
   "metadata": {},
   "outputs": [
    {
     "name": "stdout",
     "output_type": "stream",
     "text": [
      "Books issued by Vinisha\n",
      "Rich Dad Poor Dad\n",
      "IELTS Test Prep\n"
     ]
    },
    {
     "data": {
      "text/plain": [
       "2"
      ]
     },
     "execution_count": 1151,
     "metadata": {},
     "output_type": "execute_result"
    }
   ],
   "source": [
    "test.getMemberBookDetails('Vinisha')"
   ]
  },
  {
   "cell_type": "code",
   "execution_count": 1206,
   "id": "a2b8ecbc",
   "metadata": {},
   "outputs": [
    {
     "name": "stdout",
     "output_type": "stream",
     "text": [
      "Fine Sheet for Vinisha: \n",
      "Book \t\t\t Issue Date \t Return Date \t Fine\n",
      "Rich Dad Poor Dad\t\t2022-05-14\tNone\t\t 0\n",
      "IELTS Test Prep\t\t2022-05-14\t2022-05-14\t\t 0\n",
      "Total Fine is:  0\n"
     ]
    },
    {
     "data": {
      "text/plain": [
       "0"
      ]
     },
     "execution_count": 1206,
     "metadata": {},
     "output_type": "execute_result"
    }
   ],
   "source": [
    "test.calculateFine('Vinisha')"
   ]
  },
  {
   "cell_type": "code",
   "execution_count": 1172,
   "id": "ec45db6d",
   "metadata": {},
   "outputs": [
    {
     "data": {
      "text/plain": [
       "'IELTS Test Prep has been returned by Vinisha'"
      ]
     },
     "execution_count": 1172,
     "metadata": {},
     "output_type": "execute_result"
    }
   ],
   "source": [
    "test.returnBook('Vinisha', 'IELTS Test Prep')"
   ]
  },
  {
   "cell_type": "code",
   "execution_count": 987,
   "id": "4e4b9778",
   "metadata": {},
   "outputs": [],
   "source": [
    "bookName = \n",
    "bookID=connectDB.execute(\"SELECT id from Books where name=?\",(bookName,))\n",
    "bookID = bookID.fetchone()[0]\n",
    "records=connectDB.execute(\"SELECT Members.name, Issue.timeofIsuue from Members INNER JOIN Issue ON Members.id=Issue.IssuerID where Issue.bookID=?\",(bookID,))"
   ]
  },
  {
   "cell_type": "code",
   "execution_count": 1211,
   "id": "a7869519",
   "metadata": {},
   "outputs": [
    {
     "name": "stdout",
     "output_type": "stream",
     "text": [
      "Books issued by Glen\n",
      "Rich Dad Poor Dad\n",
      "Kafka On The Shore\n"
     ]
    },
    {
     "data": {
      "text/plain": [
       "2"
      ]
     },
     "execution_count": 1211,
     "metadata": {},
     "output_type": "execute_result"
    }
   ],
   "source": [
    "test.getMemberBookDetails('Glen')"
   ]
  },
  {
   "cell_type": "code",
   "execution_count": 1173,
   "id": "732f7a38",
   "metadata": {},
   "outputs": [],
   "source": [
    "x=connectDB.execute(\"SELECT * from Issue\")\n",
    "x=x.fetchall()"
   ]
  },
  {
   "cell_type": "code",
   "execution_count": 1163,
   "id": "e46aa1cb",
   "metadata": {},
   "outputs": [],
   "source": [
    "x=connectDB.execute(\"DELETE from Issue where id=?\",(6,))\n",
    "connection.commit()"
   ]
  },
  {
   "cell_type": "code",
   "execution_count": 1210,
   "id": "644de641",
   "metadata": {},
   "outputs": [
    {
     "name": "stdout",
     "output_type": "stream",
     "text": [
      "Books issued by Glen\n",
      "Rich Dad Poor Dad\n",
      "Fine Sheet for Glen: \n",
      "Book \t\t\t Issue Date \t Return Date \t Fine\n",
      "Rich Dad Poor Dad\t\t2022-05-14\tNone\t\t 0\n",
      "Total Fine is:  0\n"
     ]
    },
    {
     "data": {
      "text/plain": [
       "'Kafka On The Shore was issued to Glen for 30 days'"
      ]
     },
     "execution_count": 1210,
     "metadata": {},
     "output_type": "execute_result"
    }
   ],
   "source": [
    "test.issueBook('Kafka On The Shore','Glen')"
   ]
  },
  {
   "cell_type": "code",
   "execution_count": 1186,
   "id": "3fa1a3e2",
   "metadata": {},
   "outputs": [],
   "source": [
    "isDate = '2022-05-14'\n",
    "format = '%Y-%m-%d'\n",
    "isDT = datetime.datetime.strptime(isDate, format)"
   ]
  },
  {
   "cell_type": "code",
   "execution_count": 1193,
   "id": "d5308b88",
   "metadata": {},
   "outputs": [],
   "source": [
    "retdate = '2022-06-24'\n",
    "rtDT = datetime.datetime.strptime(retdate, format)"
   ]
  },
  {
   "cell_type": "code",
   "execution_count": 1196,
   "id": "de3320ae",
   "metadata": {},
   "outputs": [],
   "source": [
    "d=rtDT-isDT"
   ]
  },
  {
   "cell_type": "code",
   "execution_count": 1197,
   "id": "641ec066",
   "metadata": {},
   "outputs": [
    {
     "data": {
      "text/plain": [
       "41"
      ]
     },
     "execution_count": 1197,
     "metadata": {},
     "output_type": "execute_result"
    }
   ],
   "source": [
    "d.days"
   ]
  },
  {
   "cell_type": "code",
   "execution_count": null,
   "id": "c9e27e84",
   "metadata": {},
   "outputs": [],
   "source": []
  }
 ],
 "metadata": {
  "kernelspec": {
   "display_name": "Python 3 (ipykernel)",
   "language": "python",
   "name": "python3"
  },
  "language_info": {
   "codemirror_mode": {
    "name": "ipython",
    "version": 3
   },
   "file_extension": ".py",
   "mimetype": "text/x-python",
   "name": "python",
   "nbconvert_exporter": "python",
   "pygments_lexer": "ipython3",
   "version": "3.9.5"
  }
 },
 "nbformat": 4,
 "nbformat_minor": 5
}
