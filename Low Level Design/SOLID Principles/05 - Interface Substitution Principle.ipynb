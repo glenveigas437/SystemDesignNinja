{
 "cells": [
  {
   "cell_type": "code",
   "execution_count": 10,
   "id": "7fe48c15",
   "metadata": {},
   "outputs": [],
   "source": [
    "from abc import ABC, abstractmethod"
   ]
  },
  {
   "cell_type": "code",
   "execution_count": 11,
   "id": "808ed310",
   "metadata": {},
   "outputs": [],
   "source": [
    "class Striker(ABC):\n",
    "    \n",
    "    @abstractmethod\n",
    "    def shoot(self):\n",
    "        pass"
   ]
  },
  {
   "cell_type": "code",
   "execution_count": 12,
   "id": "83543a46",
   "metadata": {},
   "outputs": [],
   "source": [
    "class Midfielder(ABC):\n",
    "    \n",
    "    @abstractmethod\n",
    "    def passing(self):\n",
    "        pass"
   ]
  },
  {
   "cell_type": "code",
   "execution_count": 13,
   "id": "904a02ef",
   "metadata": {},
   "outputs": [],
   "source": [
    "class Defender(ABC):\n",
    "    \n",
    "    @abstractmethod\n",
    "    def tackle(self):\n",
    "        pass"
   ]
  },
  {
   "cell_type": "code",
   "execution_count": 14,
   "id": "4adf9150",
   "metadata": {},
   "outputs": [],
   "source": [
    "class Keeper(ABC):\n",
    "    \n",
    "    @abstractmethod\n",
    "    def save(self):\n",
    "        pass"
   ]
  },
  {
   "cell_type": "code",
   "execution_count": 44,
   "id": "29783a6e",
   "metadata": {},
   "outputs": [],
   "source": [
    "class GoalKeeper(Midfielder, Keeper):\n",
    "    def __init__(self, name):\n",
    "        self.name = name\n",
    "        \n",
    "    def save(self):\n",
    "        print(f'{self.name} can save shots')\n",
    "    \n",
    "    def passing(self):\n",
    "        print(f'{self.name} can pass')"
   ]
  },
  {
   "cell_type": "code",
   "execution_count": 45,
   "id": "687e754e",
   "metadata": {},
   "outputs": [],
   "source": [
    "class CentreBack(Defender):\n",
    "    def __init__(self, name):\n",
    "        self.name = name\n",
    "    \n",
    "    def tackle(self):\n",
    "        print(f'{self.name} can tackle')"
   ]
  },
  {
   "cell_type": "code",
   "execution_count": 46,
   "id": "fea143ac",
   "metadata": {},
   "outputs": [],
   "source": [
    "class CAM(Striker, Midfielder):\n",
    "    def __init__(self, name):\n",
    "        self.name = name\n",
    "    \n",
    "    def passing(self):\n",
    "        print(f'{self.name} can pass')\n",
    "    \n",
    "    def shoot(self):\n",
    "        print(f'{self.name} Player can shoot')"
   ]
  },
  {
   "cell_type": "code",
   "execution_count": 47,
   "id": "1bb3c7e9",
   "metadata": {},
   "outputs": [],
   "source": [
    "class CentreForward(Striker):\n",
    "    def __init__(self, name):\n",
    "        self.name = name\n",
    "    \n",
    "    def shoot(self):\n",
    "        print(f'{self.name} can shoot')"
   ]
  },
  {
   "cell_type": "code",
   "execution_count": 48,
   "id": "5320aae8",
   "metadata": {},
   "outputs": [],
   "source": [
    "class GameSimulator:\n",
    "    def __init__(self):\n",
    "        self.attackers = []\n",
    "        self.midfielders = []\n",
    "        self.defenders = []\n",
    "        self.keepers = []\n",
    "    \n",
    "    def simulate(self):\n",
    "        self.keep()\n",
    "        self.defend()\n",
    "        self.create()\n",
    "        self.attack()\n",
    "    \n",
    "    def keep(self):\n",
    "        curr=self.keepers[0]\n",
    "        curr.save()\n",
    "        curr.passing()\n",
    "    \n",
    "    def defend(self):\n",
    "        for defend in self.defenders:\n",
    "            defend.tackle()\n",
    "    \n",
    "    def create(self):\n",
    "        for midfield in self.midfielders:\n",
    "            midfield.passing()\n",
    "            midfield.shoot()\n",
    "            \n",
    "    def attack(self):\n",
    "        for attack in self.attackers:\n",
    "            attack.shoot()\n",
    "            \n",
    "            "
   ]
  },
  {
   "cell_type": "code",
   "execution_count": 49,
   "id": "5b897cd8",
   "metadata": {},
   "outputs": [],
   "source": [
    "game = GameSimulator()"
   ]
  },
  {
   "cell_type": "code",
   "execution_count": 50,
   "id": "da59b81e",
   "metadata": {},
   "outputs": [],
   "source": [
    "gk = GoalKeeper('David De Gea')"
   ]
  },
  {
   "cell_type": "code",
   "execution_count": 51,
   "id": "457fd586",
   "metadata": {},
   "outputs": [],
   "source": [
    "rb = CentreBack('Kyle Walker')\n",
    "lcb = CentreBack('Sergio Ramos')\n",
    "rcb = CentreBack('Virgil van Dijk')\n",
    "lb = CentreBack('Luke Shaw')"
   ]
  },
  {
   "cell_type": "code",
   "execution_count": 52,
   "id": "24fd777a",
   "metadata": {},
   "outputs": [],
   "source": [
    "lcm = CAM('Luka Modric')\n",
    "cam = CAM('Bruno Fernandes')\n",
    "rcm = CAM('Kevin De Bruyne')"
   ]
  },
  {
   "cell_type": "code",
   "execution_count": 53,
   "id": "07ad1e7c",
   "metadata": {},
   "outputs": [],
   "source": [
    "lw = CentreForward('Cristiano Ronaldo')\n",
    "st = CentreForward('Robert Lewandowski')\n",
    "rw = CentreForward('Lionel Messi')"
   ]
  },
  {
   "cell_type": "code",
   "execution_count": 54,
   "id": "99daf135",
   "metadata": {},
   "outputs": [],
   "source": [
    "game.keepers.append(gk)\n",
    "game.defenders.append(rb)\n",
    "game.defenders.append(rcb)\n",
    "game.defenders.append(lcb)\n",
    "game.defenders.append(lb)\n",
    "game.midfielders.append(lcm)\n",
    "game.midfielders.append(cam)\n",
    "game.midfielders.append(rcm)\n",
    "game.attackers.append(lw)\n",
    "game.attackers.append(st)\n",
    "game.attackers.append(rw)"
   ]
  },
  {
   "cell_type": "code",
   "execution_count": 55,
   "id": "1911c9fc",
   "metadata": {},
   "outputs": [
    {
     "name": "stdout",
     "output_type": "stream",
     "text": [
      "David De Gea can save shots\n",
      "David De Gea can pass\n",
      "Kyle Walker can tackle\n",
      "Virgil van Dijk can tackle\n",
      "Sergio Ramos can tackle\n",
      "Luke Shaw can tackle\n",
      "Luka Modric can pass\n",
      "Luka Modric Player can shoot\n",
      "Bruno Fernandes can pass\n",
      "Bruno Fernandes Player can shoot\n",
      "Kevin De Bruyne can pass\n",
      "Kevin De Bruyne Player can shoot\n",
      "Cristiano Ronaldo can shoot\n",
      "Robert Lewandowski can shoot\n",
      "Lionel Messi can shoot\n"
     ]
    }
   ],
   "source": [
    "game.simulate()"
   ]
  },
  {
   "cell_type": "code",
   "execution_count": null,
   "id": "87d98bc0",
   "metadata": {},
   "outputs": [],
   "source": []
  }
 ],
 "metadata": {
  "kernelspec": {
   "display_name": "Python 3 (ipykernel)",
   "language": "python",
   "name": "python3"
  },
  "language_info": {
   "codemirror_mode": {
    "name": "ipython",
    "version": 3
   },
   "file_extension": ".py",
   "mimetype": "text/x-python",
   "name": "python",
   "nbconvert_exporter": "python",
   "pygments_lexer": "ipython3",
   "version": "3.9.5"
  }
 },
 "nbformat": 4,
 "nbformat_minor": 5
}
