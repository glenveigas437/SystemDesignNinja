{
 "cells": [
  {
   "cell_type": "code",
   "execution_count": 72,
   "id": "63d25a2f",
   "metadata": {},
   "outputs": [],
   "source": [
    "import random"
   ]
  },
  {
   "cell_type": "code",
   "execution_count": 40,
   "id": "c6ebce69",
   "metadata": {},
   "outputs": [],
   "source": [
    "from abc import ABC, abstractmethod"
   ]
  },
  {
   "cell_type": "code",
   "execution_count": 41,
   "id": "2abaaa65",
   "metadata": {},
   "outputs": [],
   "source": [
    "class PaymentProcessor(ABC):\n",
    "    def processPayment(self, productId, customerId):\n",
    "        pass"
   ]
  },
  {
   "cell_type": "code",
   "execution_count": 42,
   "id": "47744dab",
   "metadata": {},
   "outputs": [],
   "source": [
    "class NetBanking(PaymentProcessor):\n",
    "    def processPayment(self, productId, customerId):\n",
    "        print(f\"Processing NetBanking Payment for {productId} of Customer {customerId}\")"
   ]
  },
  {
   "cell_type": "code",
   "execution_count": 43,
   "id": "f0888e06",
   "metadata": {},
   "outputs": [],
   "source": [
    "class UPI(PaymentProcessor):\n",
    "    def processPayment(self, productId, customerId):\n",
    "        print(f\"Processing UPI Payment for {productId} of Customer {customerId}\")"
   ]
  },
  {
   "cell_type": "code",
   "execution_count": 77,
   "id": "589fc8c0",
   "metadata": {},
   "outputs": [],
   "source": [
    "class NotificationSender(ABC):\n",
    "    def sendNotification(self, productId, customerId, contact):\n",
    "        pass"
   ]
  },
  {
   "cell_type": "code",
   "execution_count": 78,
   "id": "54f0ba82",
   "metadata": {},
   "outputs": [],
   "source": [
    "class EmailNotification(NotificationSender):\n",
    "    def sendNotification(self, productId, customerId, email):\n",
    "        print(f\"Sending Email to {customerId} at {email} for purchase of {productId}\")"
   ]
  },
  {
   "cell_type": "code",
   "execution_count": 79,
   "id": "0f969c9c",
   "metadata": {},
   "outputs": [],
   "source": [
    "class SMSNotification:\n",
    "    def sendNotification(self, productId, customerId, phone):\n",
    "        print(f\"Sending SMS to {customerId} at {phone} for Product {productId}\")"
   ]
  },
  {
   "cell_type": "code",
   "execution_count": 80,
   "id": "d753ef08",
   "metadata": {},
   "outputs": [],
   "source": [
    "class PurchaseFlowManager:\n",
    "    def __init__(self, paymentProcessor, notificationSender):\n",
    "        self.paymentProcessor = paymentProcessor\n",
    "        self.notificationSender = notificationSender\n",
    "    \n",
    "    def triggerPurchaseFlow(self, productId, customerId, contact):\n",
    "        self.paymentProcessor.processPayment(productId, customerId)\n",
    "        self.notificationSender.sendNotification(productId, customerId, contact)"
   ]
  },
  {
   "cell_type": "code",
   "execution_count": 66,
   "id": "b2125592",
   "metadata": {},
   "outputs": [],
   "source": [
    "class Shopper:\n",
    "    def __init__(self, name, contact, email):\n",
    "        self.name = name\n",
    "        self.contact = contact\n",
    "        self.email = email"
   ]
  },
  {
   "cell_type": "code",
   "execution_count": 68,
   "id": "ed9d3ec2",
   "metadata": {},
   "outputs": [],
   "source": [
    "products=['iPhone 13', 'MacBook Pro', 'Go Pro', 'Adidas Tshirt']\n",
    "paymentMethod = ['NetBanking', 'UPI']\n",
    "NotificationType = ['Email', 'SMS']"
   ]
  },
  {
   "cell_type": "code",
   "execution_count": 69,
   "id": "ee201c2b",
   "metadata": {},
   "outputs": [],
   "source": [
    "cristianoRonaldo = Shopper('Cristiano Ronaldo', 9876543210, 'siuu@cr7.com')\n",
    "lionelMessi = Shopper('Lionel Messi', 9123456780, 'leomessi10@messi.com')\n",
    "robertLewandowski = Shopper('Robert Lewandowski', 9234567801, 'rl9@givemeballondor.com')\n",
    "neymarJunior = Shopper('Neymar Junior dos Santos Silva', 9696969690, 'neyjr@neymar.com')"
   ]
  },
  {
   "cell_type": "code",
   "execution_count": 74,
   "id": "8e34963a",
   "metadata": {},
   "outputs": [],
   "source": [
    "shoppingDictionary={cristianoRonaldo:{'product':random.choice(products), 'payment':random.choice(paymentMethod), 'notification':random.choice(NotificationType)},\n",
    "                   lionelMessi: {'product':random.choice(products), 'payment':random.choice(paymentMethod), 'notification':random.choice(NotificationType)},\n",
    "                   robertLewandowski: {'product':random.choice(products), 'payment':random.choice(paymentMethod), 'notification':random.choice(NotificationType)},\n",
    "                   neymarJunior: {'product':random.choice(products), 'payment':random.choice(paymentMethod), 'notification':random.choice(NotificationType)}}"
   ]
  },
  {
   "cell_type": "code",
   "execution_count": 86,
   "id": "648724dd",
   "metadata": {},
   "outputs": [],
   "source": [
    "class PurchaseFlowManagerHelper:\n",
    "    \n",
    "    def main(self, bills):\n",
    "        for key, value in bills.items():\n",
    "            if value['payment']=='NetBanking':\n",
    "                if value['notification']=='Email':\n",
    "                    purchaseFlow = PurchaseFlowManager(NetBanking(), EmailNotification())\n",
    "                    purchaseFlow.triggerPurchaseFlow(value['product'], key.name, key.email)\n",
    "                else:\n",
    "                    purchaseFlow = PurchaseFlowManager(NetBanking(), SMSNotification())\n",
    "                    purchaseFlow.triggerPurchaseFlow(value['product'], key.name, key.contact)\n",
    "            else:\n",
    "                if value['notification']=='Email':\n",
    "                    purchaseFlow = PurchaseFlowManager(UPI(), EmailNotification())\n",
    "                    purchaseFlow.triggerPurchaseFlow(value['product'], key.name, key.email)\n",
    "                else:\n",
    "                    purchaseFlow = PurchaseFlowManager(UPI(), SMSNotification())\n",
    "                    purchaseFlow.triggerPurchaseFlow(value['product'], key.name, key.contact)\n",
    "                    \n",
    "                \n",
    "            print(\"\\n\")"
   ]
  },
  {
   "cell_type": "code",
   "execution_count": 87,
   "id": "6e3bb39e",
   "metadata": {},
   "outputs": [
    {
     "name": "stdout",
     "output_type": "stream",
     "text": [
      "Processing UPI Payment for MacBook Pro of Customer Cristiano Ronaldo\n",
      "Sending Email to Cristiano Ronaldo at siuu@cr7.com for purchase of MacBook Pro\n",
      "\n",
      "\n",
      "Processing NetBanking Payment for iPhone 13 of Customer Lionel Messi\n",
      "Sending Email to Lionel Messi at leomessi10@messi.com for purchase of iPhone 13\n",
      "\n",
      "\n",
      "Processing NetBanking Payment for Go Pro of Customer Robert Lewandowski\n",
      "Sending SMS to Robert Lewandowski at 9234567801 for Product Go Pro\n",
      "\n",
      "\n",
      "Processing UPI Payment for Adidas Tshirt of Customer Neymar Junior dos Santos Silva\n",
      "Sending Email to Neymar Junior dos Santos Silva at neyjr@neymar.com for purchase of Adidas Tshirt\n",
      "\n",
      "\n"
     ]
    }
   ],
   "source": [
    "PurchaseFlowManagerHelper().main(shoppingDictionary)"
   ]
  },
  {
   "cell_type": "code",
   "execution_count": null,
   "id": "aa4dfb04",
   "metadata": {},
   "outputs": [],
   "source": []
  }
 ],
 "metadata": {
  "kernelspec": {
   "display_name": "Python 3 (ipykernel)",
   "language": "python",
   "name": "python3"
  },
  "language_info": {
   "codemirror_mode": {
    "name": "ipython",
    "version": 3
   },
   "file_extension": ".py",
   "mimetype": "text/x-python",
   "name": "python",
   "nbconvert_exporter": "python",
   "pygments_lexer": "ipython3",
   "version": "3.9.5"
  }
 },
 "nbformat": 4,
 "nbformat_minor": 5
}
