{
 "cells": [
  {
   "cell_type": "code",
   "execution_count": 69,
   "id": "e12680ed",
   "metadata": {},
   "outputs": [],
   "source": [
    "from abc import ABC, abstractmethod"
   ]
  },
  {
   "cell_type": "code",
   "execution_count": 70,
   "id": "5ce591f8",
   "metadata": {},
   "outputs": [],
   "source": [
    "class Employee(ABC):\n",
    "    def __init__(self, iD):\n",
    "        self._id=iD\n",
    "    \n",
    "    @abstractmethod\n",
    "    def calculateSalary(self):\n",
    "        print(\"Salary of Employee is: \")"
   ]
  },
  {
   "cell_type": "code",
   "execution_count": 71,
   "id": "0dcd311d",
   "metadata": {},
   "outputs": [],
   "source": [
    "class FTE(Employee):\n",
    "    def calculateSalary(self):\n",
    "        print(\"Salary is $2,00,000\")"
   ]
  },
  {
   "cell_type": "code",
   "execution_count": 72,
   "id": "156e0996",
   "metadata": {},
   "outputs": [],
   "source": [
    "class Intern(Employee):\n",
    "    def calculateSalary(self):\n",
    "        print(\"Salary is $20,000\")"
   ]
  },
  {
   "cell_type": "code",
   "execution_count": 73,
   "id": "d4522a1b",
   "metadata": {},
   "outputs": [],
   "source": [
    "f1=FTE(1)"
   ]
  },
  {
   "cell_type": "code",
   "execution_count": 74,
   "id": "3ec8497f",
   "metadata": {},
   "outputs": [],
   "source": [
    "i1=Intern(2)"
   ]
  },
  {
   "cell_type": "code",
   "execution_count": 75,
   "id": "9e22c0e5",
   "metadata": {},
   "outputs": [],
   "source": [
    "class DisburseSalaries():\n",
    "    def disburseSalaries(self, employeeList):\n",
    "        for emp in employeeList:\n",
    "            emp.calculateSalary()"
   ]
  },
  {
   "cell_type": "code",
   "execution_count": 76,
   "id": "bdf18da3",
   "metadata": {},
   "outputs": [],
   "source": [
    "employeeList = [f1, i1]"
   ]
  },
  {
   "cell_type": "code",
   "execution_count": 77,
   "id": "70bcb984",
   "metadata": {},
   "outputs": [],
   "source": [
    "d=DisburseSalaries()"
   ]
  },
  {
   "cell_type": "code",
   "execution_count": 78,
   "id": "837e6cee",
   "metadata": {},
   "outputs": [
    {
     "name": "stdout",
     "output_type": "stream",
     "text": [
      "Salary is $2,00,000\n",
      "Salary is $20,000\n"
     ]
    }
   ],
   "source": [
    "d.disburseSalaries(employeeList)"
   ]
  },
  {
   "cell_type": "code",
   "execution_count": 80,
   "id": "44a04a2c",
   "metadata": {},
   "outputs": [],
   "source": [
    "class Notification(ABC):\n",
    "    \n",
    "    @abstractmethod\n",
    "    def notify(self, message):\n",
    "        pass"
   ]
  },
  {
   "cell_type": "code",
   "execution_count": 98,
   "id": "7a419b80",
   "metadata": {},
   "outputs": [],
   "source": [
    "class SMS(Notification):\n",
    "    def __init__(self, contact):\n",
    "        self.contact = contact\n",
    "    \n",
    "    def notify(self, message):\n",
    "        print(f\"sending SMS to {self.contact}, Message is '{message}'\")"
   ]
  },
  {
   "cell_type": "code",
   "execution_count": 99,
   "id": "9f884d26",
   "metadata": {},
   "outputs": [],
   "source": [
    "class Email(Notification):\n",
    "    def __init__(self, email):\n",
    "        self.email = email\n",
    "    \n",
    "    def notify(self, message):\n",
    "        print(f\"Sending Email to {self.email}, Mail content is '{message}'\")"
   ]
  },
  {
   "cell_type": "code",
   "execution_count": 100,
   "id": "f97b5396",
   "metadata": {},
   "outputs": [],
   "source": [
    "class WhatsApp(Notification):\n",
    "    def __init__(self, iD):\n",
    "        self.iD = iD\n",
    "    \n",
    "    def notify(self, message):\n",
    "        print(f\"Pinging {self.iD} with '{message}'\")"
   ]
  },
  {
   "cell_type": "code",
   "execution_count": 101,
   "id": "a18c5aca",
   "metadata": {},
   "outputs": [],
   "source": [
    "class NotificationManager:\n",
    "    def __init__(self, notification):\n",
    "        self.notification = notification\n",
    "    \n",
    "    def send(self, message):\n",
    "        self.notification.notify(message)"
   ]
  },
  {
   "cell_type": "code",
   "execution_count": 108,
   "id": "a082d0af",
   "metadata": {},
   "outputs": [],
   "source": [
    "class Contact:\n",
    "    def __init__(self, name, number, email, whatsAppID):\n",
    "        self.name = name\n",
    "        self.number = number\n",
    "        self.email = email\n",
    "        self.whatsAppID = whatsAppID"
   ]
  },
  {
   "cell_type": "code",
   "execution_count": 109,
   "id": "25a9a5dc",
   "metadata": {},
   "outputs": [],
   "source": [
    "c1 = Contact('Glen',9619828348,'glenveigas437@gmail.com','glenveigas4')"
   ]
  },
  {
   "cell_type": "code",
   "execution_count": 110,
   "id": "d6af6aaf",
   "metadata": {},
   "outputs": [
    {
     "name": "stdout",
     "output_type": "stream",
     "text": [
      "sending SMS to 9619828348, Message is 'Hi Glen'\n"
     ]
    }
   ],
   "source": [
    "n = NotificationManager(SMS(c1.number))\n",
    "n.send('Hi Glen')"
   ]
  },
  {
   "cell_type": "code",
   "execution_count": 111,
   "id": "d2344ab4",
   "metadata": {},
   "outputs": [
    {
     "name": "stdout",
     "output_type": "stream",
     "text": [
      "Sending Email to glenveigas437@gmail.com, Mail content is 'Dear Glen....'\n"
     ]
    }
   ],
   "source": [
    "n = NotificationManager(Email(c1.email))\n",
    "n.send('Dear Glen....')"
   ]
  },
  {
   "cell_type": "code",
   "execution_count": 113,
   "id": "416e27e7",
   "metadata": {},
   "outputs": [
    {
     "name": "stdout",
     "output_type": "stream",
     "text": [
      "Pinging glenveigas4 with 'Yo Whats Up!'\n"
     ]
    }
   ],
   "source": [
    "n = NotificationManager(WhatsApp(c1.whatsAppID))\n",
    "n.send('Yo Whats Up!')"
   ]
  },
  {
   "cell_type": "code",
   "execution_count": null,
   "id": "5aef5ffd",
   "metadata": {},
   "outputs": [],
   "source": []
  },
  {
   "cell_type": "code",
   "execution_count": null,
   "id": "f2639da3",
   "metadata": {},
   "outputs": [],
   "source": []
  }
 ],
 "metadata": {
  "kernelspec": {
   "display_name": "Python 3 (ipykernel)",
   "language": "python",
   "name": "python3"
  },
  "language_info": {
   "codemirror_mode": {
    "name": "ipython",
    "version": 3
   },
   "file_extension": ".py",
   "mimetype": "text/x-python",
   "name": "python",
   "nbconvert_exporter": "python",
   "pygments_lexer": "ipython3",
   "version": "3.9.5"
  }
 },
 "nbformat": 4,
 "nbformat_minor": 5
}
