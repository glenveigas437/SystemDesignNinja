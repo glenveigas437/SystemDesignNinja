class Course:
  def __init__(self, course_name, course_price):
    self.course_name = course_name
    self.course_price = course_price
