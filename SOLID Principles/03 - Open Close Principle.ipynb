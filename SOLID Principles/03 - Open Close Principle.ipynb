{
 "cells": [
  {
   "cell_type": "code",
   "execution_count": 20,
   "id": "9163179e",
   "metadata": {},
   "outputs": [],
   "source": [
    "from abc import ABC, abstractmethod"
   ]
  },
  {
   "cell_type": "code",
   "execution_count": 23,
   "id": "138d0d87",
   "metadata": {},
   "outputs": [],
   "source": [
    "class Superhero(ABC):\n",
    "    \n",
    "    @abstractmethod\n",
    "    def attack(self):\n",
    "        print(\"Attacking with Superhero\")"
   ]
  },
  {
   "cell_type": "code",
   "execution_count": 33,
   "id": "b11a0260",
   "metadata": {},
   "outputs": [],
   "source": [
    "class SpiderMan(Superhero):\n",
    "    def attack(self):\n",
    "        print(\"Peter Parker is attacking in Queens\")"
   ]
  },
  {
   "cell_type": "code",
   "execution_count": 34,
   "id": "17264dca",
   "metadata": {},
   "outputs": [],
   "source": [
    "class CaptainAmerica(Superhero):\n",
    "    def attack(self):\n",
    "        print(\"Captain Steve Rogers is attacking in Brooklyn\")"
   ]
  },
  {
   "cell_type": "code",
   "execution_count": 35,
   "id": "b8879a02",
   "metadata": {},
   "outputs": [],
   "source": [
    "class Thor(Superhero):\n",
    "    def attack(self):\n",
    "        print(\"Thor is attacking in Asgard\")"
   ]
  },
  {
   "cell_type": "code",
   "execution_count": 36,
   "id": "42579cc6",
   "metadata": {},
   "outputs": [],
   "source": [
    "class Attacker:\n",
    "    def attackNow(self, superheroes):\n",
    "        for s in superheroes:\n",
    "            s.attack()"
   ]
  },
  {
   "cell_type": "code",
   "execution_count": 37,
   "id": "52ec01ab",
   "metadata": {},
   "outputs": [],
   "source": [
    "class Main:\n",
    "    def mainFunction(self):\n",
    "        superheroes=[SpiderMan(), CaptainAmerica(), Thor()]\n",
    "        Attacker().attackNow(superheroes)"
   ]
  },
  {
   "cell_type": "code",
   "execution_count": 38,
   "id": "6ceb5432",
   "metadata": {},
   "outputs": [],
   "source": [
    "m=Main()"
   ]
  },
  {
   "cell_type": "code",
   "execution_count": 39,
   "id": "20525f58",
   "metadata": {},
   "outputs": [
    {
     "name": "stdout",
     "output_type": "stream",
     "text": [
      "Peter Parker is attacking in Queens\n",
      "Captain Steve Rogers is attacking in Brooklyn\n",
      "Thor is attacking in Asgard\n"
     ]
    }
   ],
   "source": [
    "m.mainFunction()"
   ]
  },
  {
   "cell_type": "code",
   "execution_count": null,
   "id": "46e520ed",
   "metadata": {},
   "outputs": [],
   "source": []
  }
 ],
 "metadata": {
  "kernelspec": {
   "display_name": "Python 3 (ipykernel)",
   "language": "python",
   "name": "python3"
  },
  "language_info": {
   "codemirror_mode": {
    "name": "ipython",
    "version": 3
   },
   "file_extension": ".py",
   "mimetype": "text/x-python",
   "name": "python",
   "nbconvert_exporter": "python",
   "pygments_lexer": "ipython3",
   "version": "3.9.5"
  }
 },
 "nbformat": 4,
 "nbformat_minor": 5
}
