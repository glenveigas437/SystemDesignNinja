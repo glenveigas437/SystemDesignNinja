{
 "cells": [
  {
   "cell_type": "code",
   "execution_count": 1,
   "id": "5ad403ab",
   "metadata": {},
   "outputs": [],
   "source": [
    "class DSACourse:\n",
    "    users={}\n",
    "    def __init__(self):\n",
    "        self.courses = {'Free Trial':['Arrays', 'Number Theory', 'Binary Search'],\n",
    "                        'Subscription Model':['Trees', 'Linked List','Graphs','Dynamic Programming', 'Heaps', 'Greedy Algorithms']}\n",
    "    \n",
    "    def registerUser(self, email, password, courseType):\n",
    "        if(email in self.users):\n",
    "            return False, \"User Already Registered\"\n",
    "        else:\n",
    "            self.users[email]=[password, courseType]\n",
    "            return True, \"User Registered Successfully!\"\n",
    "    \n",
    "    def loginUser(self):\n",
    "        count=3\n",
    "        entered=False\n",
    "        email=input(\"Enter Email: \")\n",
    "        while(count>0 and not entered):\n",
    "            password=input(\"Enter Password: \")\n",
    "            if email in self.users:\n",
    "                if password == self.users[email][0]:\n",
    "\n",
    "                    print(\"You can Access These Materials: \")\n",
    "                    x=self.accessCourse(self.users[email][1])\n",
    "                    print(x)\n",
    "                    entered=True\n",
    "                else:\n",
    "                    count-=1\n",
    "                    print(f\"You have {count} tries remaining\")\n",
    "                \n",
    "            else:\n",
    "                print(\"User Not Registered! \")\n",
    "                self.registerUser(email, password, 1)\n",
    "                print(f\"New User Created for {email}\")\n",
    "                break\n",
    "    \n",
    "    def displayCourse(self):\n",
    "        print(\"1. Free Trial, 2.Subscription\")\n",
    "    \n",
    "    def accessCourse(self, courseType):\n",
    "        if courseType==1:\n",
    "            return self.courses['Free Trial']\n",
    "        else:\n",
    "            return self.courses['Subscription Model']"
   ]
  },
  {
   "cell_type": "code",
   "execution_count": 2,
   "id": "235ba6d3",
   "metadata": {},
   "outputs": [],
   "source": [
    "class User:\n",
    "    def __init__(self):\n",
    "        self.name = input(\"Enter Your Name: \")\n",
    "        self.email = input(\"Enter Your Email: \")\n",
    "        self.password = input(\"Enter password: \")\n",
    "        DSACourse.displayCourse(self)\n",
    "        self.courseType = int(input(\"Enter Course Type InGldex: \"))\n",
    "        DSACourse().registerUser(self.email, self.password, self.courseType)"
   ]
  },
  {
   "cell_type": "code",
   "execution_count": 3,
   "id": "099b20a0",
   "metadata": {},
   "outputs": [
    {
     "name": "stdout",
     "output_type": "stream",
     "text": [
      "Enter Your Name: Tom\n",
      "Enter Your Email: peterparker@marvel.com\n",
      "Enter password: zendaya123\n",
      "1. Free Trial, 2.Subscription\n",
      "Enter Course Type InGldex: 2\n"
     ]
    }
   ],
   "source": [
    "newUser=User()"
   ]
  },
  {
   "cell_type": "code",
   "execution_count": 4,
   "id": "4c6647ff",
   "metadata": {},
   "outputs": [
    {
     "name": "stdout",
     "output_type": "stream",
     "text": [
      "Enter Email: peterparker@marvel.com\n",
      "Enter Password: zendaya123\n",
      "You can Access These Materials: \n",
      "['Trees', 'Linked List', 'Graphs', 'Dynamic Programming', 'Heaps', 'Greedy Algorithms']\n"
     ]
    }
   ],
   "source": [
    "DSACourse().loginUser()"
   ]
  },
  {
   "cell_type": "code",
   "execution_count": 27,
   "id": "2d3d3daa",
   "metadata": {},
   "outputs": [
    {
     "data": {
      "text/plain": [
       "{'glenveigas437@gmail.com': ['passWord', 2],\n",
       " 'glenveigas@gmail.com': ['qwert', 1]}"
      ]
     },
     "execution_count": 27,
     "metadata": {},
     "output_type": "execute_result"
    }
   ],
   "source": [
    "DSACourse().users"
   ]
  },
  {
   "cell_type": "code",
   "execution_count": null,
   "id": "973a7a38",
   "metadata": {},
   "outputs": [],
   "source": []
  }
 ],
 "metadata": {
  "kernelspec": {
   "display_name": "Python 3 (ipykernel)",
   "language": "python",
   "name": "python3"
  },
  "language_info": {
   "codemirror_mode": {
    "name": "ipython",
    "version": 3
   },
   "file_extension": ".py",
   "mimetype": "text/x-python",
   "name": "python",
   "nbconvert_exporter": "python",
   "pygments_lexer": "ipython3",
   "version": "3.9.5"
  }
 },
 "nbformat": 4,
 "nbformat_minor": 5
}
